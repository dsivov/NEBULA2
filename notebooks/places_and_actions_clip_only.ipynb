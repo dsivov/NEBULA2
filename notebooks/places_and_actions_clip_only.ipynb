{
 "cells": [
  {
   "cell_type": "code",
   "execution_count": 9,
   "id": "07578cea-07b1-462b-809a-3878eba7ca22",
   "metadata": {
    "collapsed": false,
    "gradient": {
     "editing": false,
     "id": "07578cea-07b1-462b-809a-3878eba7ca22",
     "kernelId": "",
     "source_hidden": false
    },
    "jupyter": {
     "outputs_hidden": false
    }
   },
   "outputs": [
    {
     "ename": "ImportError",
     "evalue": "Numba needs NumPy 1.21 or less",
     "output_type": "error",
     "traceback": [
      "\u001b[0;31m---------------------------------------------------------------------------\u001b[0m",
      "\u001b[0;31mImportError\u001b[0m                               Traceback (most recent call last)",
      "Input \u001b[0;32mIn [9]\u001b[0m, in \u001b[0;36m<cell line: 9>\u001b[0;34m()\u001b[0m\n\u001b[1;32m      7\u001b[0m \u001b[38;5;66;03m#from nebula_api.mdmmt_api.mdmmt_api import MDMMT_API\u001b[39;00m\n\u001b[1;32m      8\u001b[0m \u001b[38;5;28;01mfrom\u001b[39;00m \u001b[38;5;21;01mexperts\u001b[39;00m\u001b[38;5;21;01m.\u001b[39;00m\u001b[38;5;21;01mcommon\u001b[39;00m\u001b[38;5;21;01m.\u001b[39;00m\u001b[38;5;21;01mRemoteAPIUtility\u001b[39;00m \u001b[38;5;28;01mimport\u001b[39;00m RemoteAPIUtility\n\u001b[0;32m----> 9\u001b[0m \u001b[38;5;28;01mfrom\u001b[39;00m \u001b[38;5;21;01mnebula_api\u001b[39;00m\u001b[38;5;21;01m.\u001b[39;00m\u001b[38;5;21;01mvlmapi\u001b[39;00m \u001b[38;5;28;01mimport\u001b[39;00m VLM_API\n",
      "File \u001b[0;32m/storage/NEBULA2/nebula_api/vlmapi.py:13\u001b[0m, in \u001b[0;36m<module>\u001b[0;34m\u001b[0m\n\u001b[1;32m     10\u001b[0m \u001b[38;5;28;01mfrom\u001b[39;00m \u001b[38;5;21;01mnebula_api\u001b[39;00m\u001b[38;5;21;01m.\u001b[39;00m\u001b[38;5;21;01mnebula_enrichment_api\u001b[39;00m \u001b[38;5;28;01mimport\u001b[39;00m NRE_API\n\u001b[1;32m     11\u001b[0m \u001b[38;5;28;01mfrom\u001b[39;00m \u001b[38;5;21;01mexperts\u001b[39;00m\u001b[38;5;21;01m.\u001b[39;00m\u001b[38;5;21;01mcommon\u001b[39;00m\u001b[38;5;21;01m.\u001b[39;00m\u001b[38;5;21;01mRemoteAPIUtility\u001b[39;00m \u001b[38;5;28;01mimport\u001b[39;00m RemoteAPIUtility\n\u001b[0;32m---> 13\u001b[0m \u001b[38;5;28;01mfrom\u001b[39;00m \u001b[38;5;21;01mnebula_api\u001b[39;00m\u001b[38;5;21;01m.\u001b[39;00m\u001b[38;5;21;01mmdmmt_api\u001b[39;00m\u001b[38;5;21;01m.\u001b[39;00m\u001b[38;5;21;01mmdmmt_api\u001b[39;00m \u001b[38;5;28;01mimport\u001b[39;00m MDMMT_API\n\u001b[1;32m     15\u001b[0m \u001b[38;5;28;01mfrom\u001b[39;00m \u001b[38;5;21;01mnebula_api\u001b[39;00m\u001b[38;5;21;01m.\u001b[39;00m\u001b[38;5;21;01mclip_api\u001b[39;00m \u001b[38;5;28;01mimport\u001b[39;00m CLIP_API\n\u001b[1;32m     18\u001b[0m \u001b[38;5;28;01mclass\u001b[39;00m \u001b[38;5;21;01mVLM_API\u001b[39;00m:\n",
      "File \u001b[0;32m/storage/NEBULA2/nebula_api/mdmmt_api/mdmmt_api.py:26\u001b[0m, in \u001b[0;36m<module>\u001b[0;34m\u001b[0m\n\u001b[1;32m     24\u001b[0m \u001b[38;5;28;01mimport\u001b[39;00m \u001b[38;5;21;01mio\u001b[39;00m\n\u001b[1;32m     25\u001b[0m \u001b[38;5;28;01mimport\u001b[39;00m \u001b[38;5;21;01mnumpy\u001b[39;00m \u001b[38;5;28;01mas\u001b[39;00m \u001b[38;5;21;01mnp\u001b[39;00m\n\u001b[0;32m---> 26\u001b[0m \u001b[38;5;28;01mfrom\u001b[39;00m \u001b[38;5;21;01mnebula_api\u001b[39;00m\u001b[38;5;21;01m.\u001b[39;00m\u001b[38;5;21;01mmdmmt_api\u001b[39;00m\u001b[38;5;21;01m.\u001b[39;00m\u001b[38;5;21;01mmodels\u001b[39;00m\u001b[38;5;21;01m.\u001b[39;00m\u001b[38;5;21;01mtensorflow_models\u001b[39;00m\u001b[38;5;21;01m.\u001b[39;00m\u001b[38;5;21;01mresearch\u001b[39;00m\u001b[38;5;21;01m.\u001b[39;00m\u001b[38;5;21;01maudioset\u001b[39;00m\u001b[38;5;21;01m.\u001b[39;00m\u001b[38;5;21;01mvggish\u001b[39;00m \u001b[38;5;28;01mimport\u001b[39;00m vggish_input \u001b[38;5;28;01mas\u001b[39;00m vggish_input\n\u001b[1;32m     27\u001b[0m \u001b[38;5;28;01mimport\u001b[39;00m \u001b[38;5;21;01msubprocess\u001b[39;00m\n\u001b[1;32m     29\u001b[0m user_paths \u001b[38;5;241m=\u001b[39m sys\u001b[38;5;241m.\u001b[39mmodules[\u001b[38;5;124m'\u001b[39m\u001b[38;5;124mnebula_api\u001b[39m\u001b[38;5;124m'\u001b[39m]\u001b[38;5;241m.\u001b[39m__spec__\u001b[38;5;241m.\u001b[39msubmodule_search_locations[\u001b[38;5;241m0\u001b[39m]\n",
      "File \u001b[0;32m/storage/NEBULA2/nebula_api/mdmmt_api/models/tensorflow_models/research/audioset/vggish/vggish_input.py:19\u001b[0m, in \u001b[0;36m<module>\u001b[0;34m\u001b[0m\n\u001b[1;32m     16\u001b[0m \u001b[38;5;124;03m\"\"\"Compute input examples for VGGish from audio waveform.\"\"\"\u001b[39;00m\n\u001b[1;32m     18\u001b[0m \u001b[38;5;28;01mimport\u001b[39;00m \u001b[38;5;21;01mnumpy\u001b[39;00m \u001b[38;5;28;01mas\u001b[39;00m \u001b[38;5;21;01mnp\u001b[39;00m\n\u001b[0;32m---> 19\u001b[0m \u001b[38;5;28;01mimport\u001b[39;00m \u001b[38;5;21;01mresampy\u001b[39;00m\n\u001b[1;32m     21\u001b[0m \u001b[38;5;28;01mimport\u001b[39;00m \u001b[38;5;21;01mmel_features\u001b[39;00m\n\u001b[1;32m     22\u001b[0m \u001b[38;5;28;01mimport\u001b[39;00m \u001b[38;5;21;01mvggish_params\u001b[39;00m\n",
      "File \u001b[0;32m/notebooks/conda/envs/nebula/lib/python3.10/site-packages/resampy/__init__.py:7\u001b[0m, in \u001b[0;36m<module>\u001b[0;34m\u001b[0m\n\u001b[1;32m      5\u001b[0m \u001b[38;5;28;01mfrom\u001b[39;00m \u001b[38;5;21;01m.\u001b[39;00m\u001b[38;5;21;01mversion\u001b[39;00m \u001b[38;5;28;01mimport\u001b[39;00m version \u001b[38;5;28;01mas\u001b[39;00m __version__\n\u001b[1;32m      6\u001b[0m \u001b[38;5;28;01mfrom\u001b[39;00m \u001b[38;5;21;01m.\u001b[39;00m \u001b[38;5;28;01mimport\u001b[39;00m filters\n\u001b[0;32m----> 7\u001b[0m \u001b[38;5;28;01mfrom\u001b[39;00m \u001b[38;5;21;01m.\u001b[39;00m\u001b[38;5;21;01mcore\u001b[39;00m \u001b[38;5;28;01mimport\u001b[39;00m \u001b[38;5;241m*\u001b[39m\n",
      "File \u001b[0;32m/notebooks/conda/envs/nebula/lib/python3.10/site-packages/resampy/core.py:9\u001b[0m, in \u001b[0;36m<module>\u001b[0;34m\u001b[0m\n\u001b[1;32m      5\u001b[0m \u001b[38;5;28;01mimport\u001b[39;00m \u001b[38;5;21;01mnumpy\u001b[39;00m \u001b[38;5;28;01mas\u001b[39;00m \u001b[38;5;21;01mnp\u001b[39;00m\n\u001b[1;32m      7\u001b[0m \u001b[38;5;28;01mfrom\u001b[39;00m \u001b[38;5;21;01m.\u001b[39;00m\u001b[38;5;21;01mfilters\u001b[39;00m \u001b[38;5;28;01mimport\u001b[39;00m get_filter\n\u001b[0;32m----> 9\u001b[0m \u001b[38;5;28;01mfrom\u001b[39;00m \u001b[38;5;21;01m.\u001b[39;00m\u001b[38;5;21;01minterpn\u001b[39;00m \u001b[38;5;28;01mimport\u001b[39;00m resample_f\n\u001b[1;32m     11\u001b[0m __all__ \u001b[38;5;241m=\u001b[39m [\u001b[38;5;124m'\u001b[39m\u001b[38;5;124mresample\u001b[39m\u001b[38;5;124m'\u001b[39m]\n\u001b[1;32m     14\u001b[0m \u001b[38;5;28;01mdef\u001b[39;00m \u001b[38;5;21mresample\u001b[39m(x, sr_orig, sr_new, axis\u001b[38;5;241m=\u001b[39m\u001b[38;5;241m-\u001b[39m\u001b[38;5;241m1\u001b[39m, \u001b[38;5;28mfilter\u001b[39m\u001b[38;5;241m=\u001b[39m\u001b[38;5;124m'\u001b[39m\u001b[38;5;124mkaiser_best\u001b[39m\u001b[38;5;124m'\u001b[39m, \u001b[38;5;241m*\u001b[39m\u001b[38;5;241m*\u001b[39mkwargs):\n",
      "File \u001b[0;32m/notebooks/conda/envs/nebula/lib/python3.10/site-packages/resampy/interpn.py:4\u001b[0m, in \u001b[0;36m<module>\u001b[0;34m\u001b[0m\n\u001b[1;32m      1\u001b[0m \u001b[38;5;66;03m#!/usr/bin/env python\u001b[39;00m\n\u001b[1;32m      2\u001b[0m \u001b[38;5;124;03m'''Numba implementation of resampler'''\u001b[39;00m\n\u001b[0;32m----> 4\u001b[0m \u001b[38;5;28;01mimport\u001b[39;00m \u001b[38;5;21;01mnumba\u001b[39;00m\n\u001b[1;32m      7\u001b[0m \u001b[38;5;129m@numba\u001b[39m\u001b[38;5;241m.\u001b[39mjit(nopython\u001b[38;5;241m=\u001b[39m\u001b[38;5;28;01mTrue\u001b[39;00m, nogil\u001b[38;5;241m=\u001b[39m\u001b[38;5;28;01mTrue\u001b[39;00m)\n\u001b[1;32m      8\u001b[0m \u001b[38;5;28;01mdef\u001b[39;00m \u001b[38;5;21mresample_f\u001b[39m(x, y, sample_ratio, interp_win, interp_delta, num_table):\n\u001b[1;32m     10\u001b[0m     scale \u001b[38;5;241m=\u001b[39m \u001b[38;5;28mmin\u001b[39m(\u001b[38;5;241m1.0\u001b[39m, sample_ratio)\n",
      "File \u001b[0;32m/notebooks/conda/envs/nebula/lib/python3.10/site-packages/numba/__init__.py:200\u001b[0m, in \u001b[0;36m<module>\u001b[0;34m\u001b[0m\n\u001b[1;32m    197\u001b[0m     \u001b[38;5;28;01mreturn\u001b[39;00m \u001b[38;5;28;01mFalse\u001b[39;00m\n\u001b[1;32m    199\u001b[0m _ensure_llvm()\n\u001b[0;32m--> 200\u001b[0m \u001b[43m_ensure_critical_deps\u001b[49m\u001b[43m(\u001b[49m\u001b[43m)\u001b[49m\n\u001b[1;32m    202\u001b[0m \u001b[38;5;66;03m# we know llvmlite is working as the above tests passed, import it now as SVML\u001b[39;00m\n\u001b[1;32m    203\u001b[0m \u001b[38;5;66;03m# needs to mutate runtime options (sets the `-vector-library`).\u001b[39;00m\n\u001b[1;32m    204\u001b[0m \u001b[38;5;28;01mimport\u001b[39;00m \u001b[38;5;21;01mllvmlite\u001b[39;00m\n",
      "File \u001b[0;32m/notebooks/conda/envs/nebula/lib/python3.10/site-packages/numba/__init__.py:140\u001b[0m, in \u001b[0;36m_ensure_critical_deps\u001b[0;34m()\u001b[0m\n\u001b[1;32m    138\u001b[0m     \u001b[38;5;28;01mraise\u001b[39;00m \u001b[38;5;167;01mImportError\u001b[39;00m(\u001b[38;5;124m\"\u001b[39m\u001b[38;5;124mNumba needs NumPy 1.18 or greater\u001b[39m\u001b[38;5;124m\"\u001b[39m)\n\u001b[1;32m    139\u001b[0m \u001b[38;5;28;01melif\u001b[39;00m numpy_version \u001b[38;5;241m>\u001b[39m (\u001b[38;5;241m1\u001b[39m, \u001b[38;5;241m21\u001b[39m):\n\u001b[0;32m--> 140\u001b[0m     \u001b[38;5;28;01mraise\u001b[39;00m \u001b[38;5;167;01mImportError\u001b[39;00m(\u001b[38;5;124m\"\u001b[39m\u001b[38;5;124mNumba needs NumPy 1.21 or less\u001b[39m\u001b[38;5;124m\"\u001b[39m)\n\u001b[1;32m    142\u001b[0m \u001b[38;5;28;01mtry\u001b[39;00m:\n\u001b[1;32m    143\u001b[0m     \u001b[38;5;28;01mimport\u001b[39;00m \u001b[38;5;21;01mscipy\u001b[39;00m\n",
      "\u001b[0;31mImportError\u001b[0m: Numba needs NumPy 1.21 or less"
     ]
    }
   ],
   "source": [
    "from nebula_api.milvus_api import MilvusAPI\n",
    "import torch\n",
    "import heapq\n",
    "#import cv2\n",
    "from nebula_api.nebula_enrichment_api import NRE_API\n",
    "\n",
    "#from nebula_api.mdmmt_api.mdmmt_api import MDMMT_API\n",
    "from experts.common.RemoteAPIUtility import RemoteAPIUtility\n",
    "from nebula_api.vlmapi import VLM_API"
   ]
  },
  {
   "cell_type": "code",
   "execution_count": 7,
   "id": "04894d65-b993-4ae6-a797-63e27501b6ab",
   "metadata": {
    "collapsed": false,
    "gradient": {
     "editing": false,
     "id": "04894d65-b993-4ae6-a797-63e27501b6ab",
     "kernelId": "",
     "source_hidden": false
    },
    "jupyter": {
     "outputs_hidden": false
    }
   },
   "outputs": [],
   "source": [
    "class VCOMET_ACTIONS:\n",
    "    def __init__(self):\n",
    "        self.milvus_actions = MilvusAPI(\n",
    "            'milvus', 'vcomet_vit_embedded_actions', 'nebula_visualcomet', 768)\n",
    "        self.milvus_places = MilvusAPI(\n",
    "            'milvus', 'vcomet_vit_embedded_place', 'nebula_visualcomet', 768)\n",
    "        self.device = \"cuda\" if torch.cuda.is_available() else \"cpu\"\n",
    "        self.nre = NRE_API()\n",
    "        self.db = self.nre.db\n",
    "        self.places_collection = self.db.collection(\"nebula_vcomet_places_playground\")\n",
    "        #self.gdb = self.nre.gdb\n",
    "        self.clipmodel = VLM_API(model_name='clip_vit')\n",
    "        self.mdmmtmodel = VLM_API()\n",
    "    \n",
    "    def get_playground_movies(self):\n",
    "        return(['Movies/114206816', 'Movies/114206849', 'Movies/114206892', 'Movies/114206952', 'Movies/114206999', 'Movies/114207139', 'Movies/114207205', 'Movies/114207240', 'Movies/114207265', 'Movies/114207324', 'Movies/114207361', 'Movies/114207398', 'Movies/114207441', 'Movies/114207474', 'Movies/114207499', 'Movies/114207550', 'Movies/114207668', 'Movies/114207740', 'Movies/114207781', 'Movies/114207810', 'Movies/114207839', 'Movies/114207908', 'Movies/114207953', 'Movies/114207984', 'Movies/114208064', 'Movies/114208149', 'Movies/114208196', 'Movies/114208338', 'Movies/114208367', 'Movies/114208576', 'Movies/114208637', 'Movies/114208744', 'Movies/114208777', 'Movies/114208820', 'Movies/114206358', 'Movies/114206264', 'Movies/114206337', 'Movies/114206397', 'Movies/114206632', 'Movies/114206597', 'Movies/114206691', 'Movies/114206789', 'Movies/114207184', 'Movies/114206548'])\n",
    "        \n",
    "    def get_playground_movies_and_scenes(self):\n",
    "        return([('Movies/114206952', 1),\n",
    "                ('Movies/114207324', 0),\n",
    "                ('Movies/114207908', 0),\n",
    "                ('Movies/114208149', 2),\n",
    "                ('Movies/114208196', 1),\n",
    "                ('Movies/114208338', 0),\n",
    "                ('Movies/114208576', 0),\n",
    "                ('Movies/114208744', 0),\n",
    "                ('Movies/114208744', 2),\n",
    "                ('Movies/114206337', 0),\n",
    "                ('Movies/114206337', 1),\n",
    "                ('Movies/114206548', 0),\n",
    "                ('Movies/114206548', 1)])\n",
    "\n",
    "    def get_actions_for_scene(self, movie, stage):\n",
    "        #movie_candidates = []\n",
    "        vectors = []\n",
    "       \n",
    "        path = \"\"  \n",
    "        url_prefix = \"http://ec2-18-159-140-240.eu-central-1.compute.amazonaws.com:7000/\"\n",
    "        url = self.nre.get_movie_url(movie)          \n",
    "        clip_v = self.clipmodel.encode_video(movie, stage, class_name='clip_vit' )\n",
    "\n",
    "        vectors.append(clip_v.tolist()[0])\n",
    "        if clip_v is not None:\n",
    "            clip_v = clip_v.tolist()[0]\n",
    "            similar_nodes = self.milvus_actions.search_vector(50, clip_v)\n",
    "        return(similar_nodes)\n",
    "\n",
    "    def get_places_for_scene(self, movie, stage):\n",
    "        #movie_candidates = []\n",
    "        vectors = []\n",
    "        candidates_places = []\n",
    "        \n",
    "        path = \"\"  \n",
    "        url_prefix = \"http://ec2-18-159-140-240.eu-central-1.compute.amazonaws.com:7000/\"\n",
    "        url = self.nre.get_movie_url(movie)          \n",
    "        clip_v = self.clipmodel.encode_video(movie, stage, class_name='clip_vit' )\n",
    "        vectors.append(clip_v.tolist()[0])\n",
    "        if clip_v is not None:\n",
    "            clip_v = clip_v.tolist()[0]\n",
    "            similar_nodes = self.milvus_places.search_vector(50, clip_v)\n",
    "        return(similar_nodes)"
   ]
  },
  {
   "cell_type": "code",
   "execution_count": 8,
   "id": "6a03246d-4c9b-4ab0-8feb-6a849565b1e0",
   "metadata": {
    "collapsed": false,
    "gradient": {
     "editing": false,
     "id": "6a03246d-4c9b-4ab0-8feb-6a849565b1e0",
     "kernelId": "",
     "source_hidden": false
    },
    "jupyter": {
     "outputs_hidden": false
    }
   },
   "outputs": [],
   "source": [
    "def get_lsmdc_s1(db):\n",
    "    s1_lsmdc_movies = []\n",
    "    \n",
    "    query = 'FOR doc IN s1_lsmdc_dima RETURN doc'\n",
    "   \n",
    "    cursor = db.aql.execute(query)\n",
    "    for data in cursor:\n",
    "        s1_lsmdc_movies.append(data)\n",
    "    #print(s1_lsmdc_movies)\n",
    "    return(s1_lsmdc_movies)"
   ]
  },
  {
   "cell_type": "code",
   "execution_count": null,
   "id": "4f53f8b6-dbf3-47b7-8cce-610d84dd3231",
   "metadata": {
    "collapsed": false,
    "gradient": {
     "editing": false,
     "id": "4f53f8b6-dbf3-47b7-8cce-610d84dd3231",
     "kernelId": "",
     "source_hidden": false
    },
    "jupyter": {
     "outputs_hidden": false
    }
   },
   "outputs": [],
   "source": [
    "kg = VCOMET_ACTIONS()\n",
    "db = kg.nre.db\n",
    "print(db)"
   ]
  },
  {
   "cell_type": "code",
   "execution_count": 11,
   "id": "ed5ba35d-4f65-47c1-a03f-e8d53d28ceac",
   "metadata": {
    "collapsed": false,
    "gradient": {
     "editing": false,
     "id": "ed5ba35d-4f65-47c1-a03f-e8d53d28ceac",
     "kernelId": "",
     "source_hidden": false
    },
    "jupyter": {
     "outputs_hidden": false
    }
   },
   "outputs": [],
   "source": [
    "s1_movies = get_lsmdc_s1(db)"
   ]
  },
  {
   "cell_type": "code",
   "execution_count": null,
   "id": "a7bd7950-ee11-4cfd-a1aa-2ff0bb922960",
   "metadata": {
    "collapsed": false,
    "gradient": {
     "editing": false,
     "id": "a7bd7950-ee11-4cfd-a1aa-2ff0bb922960",
     "kernelId": "",
     "source_hidden": false
    },
    "jupyter": {
     "outputs_hidden": false
    }
   },
   "outputs": [],
   "source": [
    "print(s1_movies)"
   ]
  },
  {
   "cell_type": "code",
   "execution_count": null,
   "id": "94de407d-810f-43c8-b6e0-31114a46012d",
   "metadata": {
    "collapsed": false,
    "gradient": {
     "editing": false,
     "id": "94de407d-810f-43c8-b6e0-31114a46012d",
     "kernelId": "",
     "source_hidden": false
    },
    "jupyter": {
     "outputs_hidden": false
    }
   },
   "outputs": [],
   "source": [
    "\n",
    "\n",
    "movies = kg.get_playground_movies()\n",
    "for i, movie in enumerate(s1_movies):\n",
    "    places = kg.get_places_for_scene(movie['movie_id'], movie['scene_element'])\n",
    "    print(\"Places - Movie: \", i)\n",
    "    print(places)\n",
    "    \n"
   ]
  },
  {
   "cell_type": "code",
   "execution_count": null,
   "id": "8881a65d-c1e3-49d0-9757-d8435d1d9300",
   "metadata": {
    "collapsed": false,
    "gradient": {
     "editing": false,
     "id": "8881a65d-c1e3-49d0-9757-d8435d1d9300",
     "kernelId": "",
     "source_hidden": false
    },
    "jupyter": {
     "outputs_hidden": false
    }
   },
   "outputs": [],
   "source": [
    "for i, movie in enumerate(s1_movies):\n",
    "    actions = kg.get_actions_for_scene(movie['movie_id'], movie['scene_element'])\n",
    "    print(\"Actions - Movie: \", i)\n",
    "    print(actions)\n",
    "   \n",
    "    "
   ]
  }
 ],
 "metadata": {
  "kernelspec": {
   "display_name": "Python 3 (ipykernel)",
   "language": "python",
   "name": "python3"
  },
  "language_info": {
   "codemirror_mode": {
    "name": "ipython",
    "version": 3
   },
   "file_extension": ".py",
   "mimetype": "text/x-python",
   "name": "python",
   "nbconvert_exporter": "python",
   "pygments_lexer": "ipython3",
   "version": "3.10.2"
  }
 },
 "nbformat": 4,
 "nbformat_minor": 5
}

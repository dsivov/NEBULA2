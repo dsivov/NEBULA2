{
  "cells": [
    {
      "cell_type": "markdown",
      "metadata": {
        "colab_type": "text",
        "id": "view-in-github"
      },
      "source": [
        "<a href=\"https://colab.research.google.com/github/dsivov/NEBULA2/blob/master/notebooks/gdrive_tempalte.ipynb\" target=\"_parent\"><img src=\"https://colab.research.google.com/assets/colab-badge.svg\" alt=\"Open In Colab\"/></a>"
      ]
    },
    {
      "cell_type": "markdown",
      "metadata": {
        "id": "3aRF6H2sKe_z"
      },
      "source": [
        "Nebula on Gradient Cluster.\n",
        "\n",
        "\n",
        "*   Register on https://console.paperspace.com\n",
        "*   Create new notebook with following parameters:\n",
        "\n",
        "1. Workspace URL - path to Nebula Git \n",
        "2. Container - currently dsivov/nebula_gradient:v05 \n",
        "3. Command - /run.sh\n",
        "\n",
        "Notebook layout:\n",
        "/notebooks - main Nebula code\n",
        "/storage - permanent storage (models)\n",
        "\n",
        "pre-installed packages are under conda nebula env (/opt/...)\n",
        "if you want to add permanent package - use pip with --target parameter and point it to any directory under /storage. Any other path prefix will be deleted on next run"
      ]
    },
    {
      "cell_type": "markdown",
      "metadata": {
        "id": "ZzaeCPooJMzJ"
      },
      "source": [
        "This part must be executed each time you connect to Gradient docker"
      ]
    },
    {
      "cell_type": "code",
      "execution_count": null,
      "metadata": {
        "colab": {
          "base_uri": "https://localhost:8080/"
        },
        "id": "9NfALqf_KcUb",
        "outputId": "741cb608-f73c-4f15-99c5-782586624f50"
      },
      "outputs": [],
      "source": [
        "import os, sys\n",
        "\n",
        "nebula_path = '/notebooks'\n",
        "nebula_storage = '/storage'\n",
        "isdir = os.path.isdir(nebula_path)\n",
        "\n",
        "nebula_env = nebula_storage + \"/env\"\n",
        "nebula_models = nebula_storage + \"/models\"\n",
        "nebula_data = nebula_storage + \"/data\"\n",
        "\n",
        "sys.path.insert(0, nebula_path)\n",
        "sys.path.insert(0, nebula_env)\n",
        "os.environ['TRANSFORMERS_CACHE'] = nebula_models\n"
      ]
    },
    {
      "cell_type": "code",
      "execution_count": null,
      "metadata": {
        "id": "hM1FgCLj3A4a"
      },
      "outputs": [],
      "source": [
        "#!pip install --target=$nebula_env python-arango==7.2.0\n",
        "#!pip install --target=$nebula_env pymilvus==1.1.0"
      ]
    },
    {
      "cell_type": "markdown",
      "metadata": {
        "id": "2O4UL5DF3XHG"
      },
      "source": [
        "Example for MDMMT related packages"
      ]
    },
    {
      "cell_type": "code",
      "execution_count": null,
      "metadata": {
        "id": "0uRtIgel3MKN"
      },
      "outputs": [],
      "source": [
        "# MDMMT packages, uncomment for first usage\n",
        "#!pip install --target=$nebula_env  tf_slim \n",
        "#!pip install --target=$nebula_env ftfy\n",
        "#!pip install --target=$nebula_env transformers"
      ]
    },
    {
      "cell_type": "code",
      "execution_count": 3,
      "metadata": {
        "id": "2Fj2nl433Nje"
      },
      "outputs": [],
      "source": [
        "from nebula_api.nebula_enrichment_api import NRE_API"
      ]
    },
    {
      "cell_type": "code",
      "execution_count": null,
      "metadata": {
        "colab": {
          "base_uri": "https://localhost:8080/"
        },
        "id": "lC7fNEcZNeFV",
        "outputId": "ce0d2549-419e-43ef-f66c-625a0ead2e7d"
      },
      "outputs": [],
      "source": [
        "\n",
        "from nebula_api.mdmmt_api.mdmmt_api import MDMMT_API\n",
        "mdmmt = MDMMT_API()\n"
      ]
    },
    {
      "cell_type": "markdown",
      "metadata": {
        "id": "VuVjtIKFJzbi"
      },
      "source": [
        "Tests:\n",
        "\n",
        "\n",
        "1.   DataBase connector\n",
        "2.   MDMMT \n",
        "3.   Milvus API\n",
        "\n"
      ]
    },
    {
      "cell_type": "code",
      "execution_count": null,
      "metadata": {
        "id": "0JAuE76QNevG"
      },
      "outputs": [],
      "source": [
        "class DatabaseConnector():\n",
        "  def __init__(self):\n",
        "      self.arango_host = 'http://ec2-18-158-123-0.eu-central-1.compute.amazonaws.com:8529'\n",
        "\n",
        "  def connect_db(self, dbname):\n",
        "      client = ArangoClient(hosts=self.arango_host)\n",
        "      db = client.db(dbname, username='nebula', password='nebula')\n",
        "      return (db)\n",
        "    "
      ]
    },
    {
      "cell_type": "code",
      "execution_count": null,
      "metadata": {
        "id": "83HoOUNZNsSz"
      },
      "outputs": [],
      "source": [
        "gdb = DatabaseConnector()\n",
        "db = gdb.connect_db(\"nebula_development\")\n"
      ]
    },
    {
      "cell_type": "code",
      "execution_count": null,
      "metadata": {
        "id": "43pXnhJjNuDT"
      },
      "outputs": [],
      "source": [
        "def get_movie_url(movie_id, db):\n",
        "  #nebula_movies = []\n",
        "  url = \"\"\n",
        "  query = 'FOR doc IN Movies FILTER doc._id == \"{}\" RETURN doc.url_path'.format(movie_id)\n",
        "  cursor = db.aql.execute(query)\n",
        "  for data in cursor:\n",
        "      #print(data)\n",
        "      url = data\n",
        "  #print(url)\n",
        "  return(url)"
      ]
    },
    {
      "cell_type": "code",
      "execution_count": null,
      "metadata": {
        "colab": {
          "base_uri": "https://localhost:8080/",
          "height": 35
        },
        "id": "N_1ffmTUNz14",
        "outputId": "39ba5065-5fa0-44ae-f67f-841958f3662b"
      },
      "outputs": [
        {
          "data": {
            "application/vnd.google.colaboratory.intrinsic+json": {
              "type": "string"
            },
            "text/plain": [
              "'static/development/1035_The_Adjustment_Bureau_00_01_40_825-00_01_46_814.mp4'"
            ]
          },
          "execution_count": 13,
          "metadata": {},
          "output_type": "execute_result"
        }
      ],
      "source": [
        "get_movie_url('Movies/114208149', db)"
      ]
    },
    {
      "cell_type": "code",
      "execution_count": 5,
      "metadata": {
        "colab": {
          "base_uri": "https://localhost:8080/"
        },
        "id": "56moAccaN6uv",
        "outputId": "8df852a5-39f8-408b-fe28-213546cb45d2"
      },
      "outputs": [
        {
          "name": "stdout",
          "output_type": "stream",
          "text": [
            "tensor([ 0.0050, -0.0057,  0.0204,  ...,  0.0024,  0.0030, -0.0023],\n",
            "       device='cuda:0')\n"
          ]
        }
      ],
      "source": [
        "vector = mdmmt.encode_text(\"test encoder\")\n",
        "print(vector)"
      ]
    },
    {
      "cell_type": "markdown",
      "metadata": {
        "id": "4zB_0c0LO0Q8"
      },
      "source": [
        "Test Nebula main API"
      ]
    },
    {
      "cell_type": "code",
      "execution_count": null,
      "metadata": {
        "id": "oD-cVysQ44rt"
      },
      "outputs": [],
      "source": [
        "nre = NRE_API()\n",
        "nre.get_all_movies()"
      ]
    },
    {
      "cell_type": "markdown",
      "metadata": {
        "id": "q8oonL28CDa3"
      },
      "source": [
        "Test Milvus API"
      ]
    },
    {
      "cell_type": "code",
      "execution_count": null,
      "metadata": {
        "id": "zsq_PaVCCGT7"
      },
      "outputs": [],
      "source": [
        "from config_nebula.config import NEBULA_CONF\n",
        "ncfg = NEBULA_CONF()\n",
        "HOST, _PORT = ncfg.get_milvus_server()\n",
        "print(HOST, \" \", _PORT)\n",
        "from nebula_api.milvus_api import MilvusAPI\n",
        "milvus_events = MilvusAPI(\n",
        "            'milvus', 'vcomet_mdmmt_embedded_event', 'nebula_visualcomet', 1536)\n",
        "vector = vector.tolist()\n",
        "milvus_events.search_vector(40, vector)"
      ]
    }
  ],
  "metadata": {
    "accelerator": "GPU",
    "colab": {
      "collapsed_sections": [],
      "include_colab_link": true,
      "name": "gdrive_tempalte.ipynb",
      "provenance": []
    },
    "kernelspec": {
      "display_name": "Python 3",
      "name": "python3"
    }
  },
  "nbformat": 4,
  "nbformat_minor": 0
}
